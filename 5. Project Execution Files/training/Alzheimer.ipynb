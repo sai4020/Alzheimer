{
 "cells": [
  {
   "cell_type": "code",
   "execution_count": null,
   "id": "89f83243-cc5d-49b2-b6a1-5297a38bcb78",
   "metadata": {},
   "outputs": [],
   "source": [
    "###DataCollection"
   ]
  },
  {
   "cell_type": "code",
   "execution_count": 1,
   "id": "fb2ebe05-64d1-4033-97e8-ae16f1e6cbce",
   "metadata": {},
   "outputs": [
    {
     "name": "stdout",
     "output_type": "stream",
     "text": [
      "Files extracted to: extract_files\n"
     ]
    }
   ],
   "source": [
    "import zipfile\n",
    "import os\n",
    "\n",
    "# Path to the uploaded ZIP file\n",
    "zip_file_path = 'archive.zip'\n",
    "\n",
    "# Folder where you want to extract the ZIP file\n",
    "extract_folder = 'extract_files'\n",
    "\n",
    "# Create the folder if it doesn't exist\n",
    "os.makedirs(extract_folder, exist_ok=True)\n",
    "\n",
    "# Extract the contents of the ZIP file\n",
    "with zipfile.ZipFile(zip_file_path, 'r') as zip_ref:\n",
    "    zip_ref.extractall(extract_folder)\n",
    "\n",
    "print(f\"Files extracted to: {extract_folder}\")\n"
   ]
  },
  {
   "cell_type": "code",
   "execution_count": null,
   "id": "d0af795b-6c76-4b9b-8563-1f93b0aad612",
   "metadata": {},
   "outputs": [],
   "source": [
    "###Creating training and testing dataset"
   ]
  },
  {
   "cell_type": "code",
   "execution_count": 3,
   "id": "14aa7d59-d5d8-431c-a4af-69b4001c1326",
   "metadata": {},
   "outputs": [],
   "source": [
    "trainPath = r\"extract_files/Alzheimer_s Dataset/train\"\n",
    "testPath = r\"extract_files/Alzheimer_s Dataset/test\""
   ]
  },
  {
   "cell_type": "code",
   "execution_count": null,
   "id": "b5bbf6b7-d577-49ee-9d0d-2cc5211df22d",
   "metadata": {},
   "outputs": [],
   "source": [
    "###Image Preprocessing"
   ]
  },
  {
   "cell_type": "code",
   "execution_count": null,
   "id": "608d4d0b-3fb6-48d4-9d2f-f31190b13766",
   "metadata": {},
   "outputs": [],
   "source": [
    "###Importing libraries"
   ]
  },
  {
   "cell_type": "code",
   "execution_count": 5,
   "id": "6c81bdbc-95a6-4c2e-919b-496fee34bded",
   "metadata": {},
   "outputs": [
    {
     "name": "stdout",
     "output_type": "stream",
     "text": [
      "Requirement already satisfied: tensorflow in c:\\users\\thadb\\anaconda3\\lib\\site-packages (2.18.0)\n",
      "Requirement already satisfied: tensorflow-intel==2.18.0 in c:\\users\\thadb\\anaconda3\\lib\\site-packages (from tensorflow) (2.18.0)\n",
      "Requirement already satisfied: absl-py>=1.0.0 in c:\\users\\thadb\\anaconda3\\lib\\site-packages (from tensorflow-intel==2.18.0->tensorflow) (2.1.0)\n",
      "Requirement already satisfied: astunparse>=1.6.0 in c:\\users\\thadb\\anaconda3\\lib\\site-packages (from tensorflow-intel==2.18.0->tensorflow) (1.6.3)\n",
      "Requirement already satisfied: flatbuffers>=24.3.25 in c:\\users\\thadb\\anaconda3\\lib\\site-packages (from tensorflow-intel==2.18.0->tensorflow) (24.3.25)\n",
      "Requirement already satisfied: gast!=0.5.0,!=0.5.1,!=0.5.2,>=0.2.1 in c:\\users\\thadb\\anaconda3\\lib\\site-packages (from tensorflow-intel==2.18.0->tensorflow) (0.6.0)\n",
      "Requirement already satisfied: google-pasta>=0.1.1 in c:\\users\\thadb\\anaconda3\\lib\\site-packages (from tensorflow-intel==2.18.0->tensorflow) (0.2.0)\n",
      "Requirement already satisfied: libclang>=13.0.0 in c:\\users\\thadb\\anaconda3\\lib\\site-packages (from tensorflow-intel==2.18.0->tensorflow) (18.1.1)\n",
      "Requirement already satisfied: opt-einsum>=2.3.2 in c:\\users\\thadb\\anaconda3\\lib\\site-packages (from tensorflow-intel==2.18.0->tensorflow) (3.4.0)\n",
      "Requirement already satisfied: packaging in c:\\users\\thadb\\anaconda3\\lib\\site-packages (from tensorflow-intel==2.18.0->tensorflow) (23.2)\n",
      "Requirement already satisfied: protobuf!=4.21.0,!=4.21.1,!=4.21.2,!=4.21.3,!=4.21.4,!=4.21.5,<6.0.0dev,>=3.20.3 in c:\\users\\thadb\\anaconda3\\lib\\site-packages (from tensorflow-intel==2.18.0->tensorflow) (3.20.3)\n",
      "Requirement already satisfied: requests<3,>=2.21.0 in c:\\users\\thadb\\anaconda3\\lib\\site-packages (from tensorflow-intel==2.18.0->tensorflow) (2.32.2)\n",
      "Requirement already satisfied: setuptools in c:\\users\\thadb\\anaconda3\\lib\\site-packages (from tensorflow-intel==2.18.0->tensorflow) (69.5.1)\n",
      "Requirement already satisfied: six>=1.12.0 in c:\\users\\thadb\\anaconda3\\lib\\site-packages (from tensorflow-intel==2.18.0->tensorflow) (1.16.0)\n",
      "Requirement already satisfied: termcolor>=1.1.0 in c:\\users\\thadb\\anaconda3\\lib\\site-packages (from tensorflow-intel==2.18.0->tensorflow) (2.5.0)\n",
      "Requirement already satisfied: typing-extensions>=3.6.6 in c:\\users\\thadb\\anaconda3\\lib\\site-packages (from tensorflow-intel==2.18.0->tensorflow) (4.11.0)\n",
      "Requirement already satisfied: wrapt>=1.11.0 in c:\\users\\thadb\\anaconda3\\lib\\site-packages (from tensorflow-intel==2.18.0->tensorflow) (1.14.1)\n",
      "Requirement already satisfied: grpcio<2.0,>=1.24.3 in c:\\users\\thadb\\anaconda3\\lib\\site-packages (from tensorflow-intel==2.18.0->tensorflow) (1.68.0)\n",
      "Requirement already satisfied: tensorboard<2.19,>=2.18 in c:\\users\\thadb\\anaconda3\\lib\\site-packages (from tensorflow-intel==2.18.0->tensorflow) (2.18.0)\n",
      "Requirement already satisfied: keras>=3.5.0 in c:\\users\\thadb\\anaconda3\\lib\\site-packages (from tensorflow-intel==2.18.0->tensorflow) (3.6.0)\n",
      "Requirement already satisfied: numpy<2.1.0,>=1.26.0 in c:\\users\\thadb\\anaconda3\\lib\\site-packages (from tensorflow-intel==2.18.0->tensorflow) (1.26.4)\n",
      "Requirement already satisfied: h5py>=3.11.0 in c:\\users\\thadb\\anaconda3\\lib\\site-packages (from tensorflow-intel==2.18.0->tensorflow) (3.11.0)\n",
      "Requirement already satisfied: ml-dtypes<0.5.0,>=0.4.0 in c:\\users\\thadb\\anaconda3\\lib\\site-packages (from tensorflow-intel==2.18.0->tensorflow) (0.4.1)\n",
      "Requirement already satisfied: wheel<1.0,>=0.23.0 in c:\\users\\thadb\\anaconda3\\lib\\site-packages (from astunparse>=1.6.0->tensorflow-intel==2.18.0->tensorflow) (0.43.0)\n",
      "Requirement already satisfied: rich in c:\\users\\thadb\\anaconda3\\lib\\site-packages (from keras>=3.5.0->tensorflow-intel==2.18.0->tensorflow) (13.3.5)\n",
      "Requirement already satisfied: namex in c:\\users\\thadb\\anaconda3\\lib\\site-packages (from keras>=3.5.0->tensorflow-intel==2.18.0->tensorflow) (0.0.8)\n",
      "Requirement already satisfied: optree in c:\\users\\thadb\\anaconda3\\lib\\site-packages (from keras>=3.5.0->tensorflow-intel==2.18.0->tensorflow) (0.13.1)\n",
      "Requirement already satisfied: charset-normalizer<4,>=2 in c:\\users\\thadb\\anaconda3\\lib\\site-packages (from requests<3,>=2.21.0->tensorflow-intel==2.18.0->tensorflow) (2.0.4)\n",
      "Requirement already satisfied: idna<4,>=2.5 in c:\\users\\thadb\\anaconda3\\lib\\site-packages (from requests<3,>=2.21.0->tensorflow-intel==2.18.0->tensorflow) (3.7)\n",
      "Requirement already satisfied: urllib3<3,>=1.21.1 in c:\\users\\thadb\\anaconda3\\lib\\site-packages (from requests<3,>=2.21.0->tensorflow-intel==2.18.0->tensorflow) (2.2.2)\n",
      "Requirement already satisfied: certifi>=2017.4.17 in c:\\users\\thadb\\anaconda3\\lib\\site-packages (from requests<3,>=2.21.0->tensorflow-intel==2.18.0->tensorflow) (2024.6.2)\n",
      "Requirement already satisfied: markdown>=2.6.8 in c:\\users\\thadb\\anaconda3\\lib\\site-packages (from tensorboard<2.19,>=2.18->tensorflow-intel==2.18.0->tensorflow) (3.4.1)\n",
      "Requirement already satisfied: tensorboard-data-server<0.8.0,>=0.7.0 in c:\\users\\thadb\\anaconda3\\lib\\site-packages (from tensorboard<2.19,>=2.18->tensorflow-intel==2.18.0->tensorflow) (0.7.2)\n",
      "Requirement already satisfied: werkzeug>=1.0.1 in c:\\users\\thadb\\anaconda3\\lib\\site-packages (from tensorboard<2.19,>=2.18->tensorflow-intel==2.18.0->tensorflow) (3.0.3)\n",
      "Requirement already satisfied: MarkupSafe>=2.1.1 in c:\\users\\thadb\\anaconda3\\lib\\site-packages (from werkzeug>=1.0.1->tensorboard<2.19,>=2.18->tensorflow-intel==2.18.0->tensorflow) (2.1.3)\n",
      "Requirement already satisfied: markdown-it-py<3.0.0,>=2.2.0 in c:\\users\\thadb\\anaconda3\\lib\\site-packages (from rich->keras>=3.5.0->tensorflow-intel==2.18.0->tensorflow) (2.2.0)\n",
      "Requirement already satisfied: pygments<3.0.0,>=2.13.0 in c:\\users\\thadb\\anaconda3\\lib\\site-packages (from rich->keras>=3.5.0->tensorflow-intel==2.18.0->tensorflow) (2.15.1)\n",
      "Requirement already satisfied: mdurl~=0.1 in c:\\users\\thadb\\anaconda3\\lib\\site-packages (from markdown-it-py<3.0.0,>=2.2.0->rich->keras>=3.5.0->tensorflow-intel==2.18.0->tensorflow) (0.1.0)\n"
     ]
    }
   ],
   "source": [
    "!pip install tensorflow\n",
    "from tensorflow.keras.layers import Dense, Flatten, Input\n",
    "from tensorflow.keras.models import Model\n",
    "from tensorflow.keras.preprocessing import image\n",
    "from tensorflow.keras.preprocessing.image import ImageDataGenerator, load_img\n",
    "from tensorflow.keras.applications.xception import Xception, preprocess_input\n",
    "from glob import glob\n",
    "import numpy as np\n",
    "import matplotlib.pyplot as plt"
   ]
  },
  {
   "cell_type": "code",
   "execution_count": null,
   "id": "6ba1bf57-a4cf-4802-aa1b-64810c04756d",
   "metadata": {},
   "outputs": [],
   "source": [
    "###Configure of Images & Preprocessing"
   ]
  },
  {
   "cell_type": "code",
   "execution_count": 7,
   "id": "3f81b13d-bc4c-48c4-b521-09aaf48699a3",
   "metadata": {},
   "outputs": [
    {
     "name": "stdout",
     "output_type": "stream",
     "text": [
      "Found 5121 images belonging to 4 classes.\n"
     ]
    }
   ],
   "source": [
    "from tensorflow.keras.preprocessing.image import ImageDataGenerator as IDG\n",
    "IMG_SIZE = 180\n",
    "IMAGE_SIZE = [180, 180]\n",
    "DIM = (IMG_SIZE, IMG_SIZE)\n",
    "ZOOM = [.99, 1.01]\n",
    "BRIGHT_RANGE = [0.8, 1.2]\n",
    "HORZ_FLIP = True\n",
    "FILL_MODE = \"constant\"\n",
    "DATA_FORMAT = \"channels_last\"\n",
    "WORK_DIR = \"extract_files/Alzheimer_s Dataset/train\"\n",
    "work_dr = IDG(rescale = 1./225, brightness_range = BRIGHT_RANGE, zoom_range = ZOOM,  fill_mode = FILL_MODE, data_format = DATA_FORMAT, horizontal_flip = HORZ_FLIP)\n",
    "train_data_gen = work_dr.flow_from_directory(directory = WORK_DIR, target_size = DIM, batch_size = 6500, shuffle = False)"
   ]
  },
  {
   "cell_type": "code",
   "execution_count": null,
   "id": "91b24a19-756d-4b51-abc1-d034ac705f4a",
   "metadata": {},
   "outputs": [],
   "source": [
    "###Handling Imbalance Data"
   ]
  },
  {
   "cell_type": "code",
   "execution_count": 11,
   "id": "1b1b49f2-a0c4-4812-a4cb-6f4cebc789bb",
   "metadata": {},
   "outputs": [
    {
     "name": "stdout",
     "output_type": "stream",
     "text": [
      "(5121, 180, 180, 3) (5121, 4)\n"
     ]
    }
   ],
   "source": [
    "train_data, train_labels = next(train_data_gen)\n",
    "print(train_data.shape, train_labels.shape)"
   ]
  },
  {
   "cell_type": "code",
   "execution_count": 13,
   "id": "38f93378-3765-4633-ad98-8e46e934a3f9",
   "metadata": {},
   "outputs": [
    {
     "name": "stdout",
     "output_type": "stream",
     "text": [
      "(10240, 180, 180, 3) (10240, 4)\n"
     ]
    }
   ],
   "source": [
    "#After oversampling\n",
    "from imblearn.over_sampling import SMOTE\n",
    "sm = SMOTE(random_state=42)\n",
    "train_data, train_labels = sm.fit_resample(train_data.reshape(-1, IMG_SIZE * IMG_SIZE * 3), train_labels)\n",
    "train_data = train_data.reshape(-1, IMG_SIZE, IMG_SIZE, 3)\n",
    "print(train_data.shape, train_labels.shape)"
   ]
  },
  {
   "cell_type": "code",
   "execution_count": null,
   "id": "e663869c-4f0b-4d33-a159-e67d9b7380ba",
   "metadata": {},
   "outputs": [],
   "source": [
    "###Splitting into train test split"
   ]
  },
  {
   "cell_type": "code",
   "execution_count": 17,
   "id": "f5f3bddd-d0a7-4974-b7a3-483661467bda",
   "metadata": {},
   "outputs": [],
   "source": [
    "from sklearn.model_selection import train_test_split\n",
    "train_data, test_data, train_labels, test_labels = train_test_split(train_data, train_labels, test_size = 0.2, random_state=42)\n",
    "train_data, val_data, train_labels, val_labels = train_test_split(train_data, train_labels, test_size = 0.2, random_state=42)"
   ]
  },
  {
   "cell_type": "code",
   "execution_count": null,
   "id": "826ef7b9-05bc-41a0-ba03-709f765ca59d",
   "metadata": {},
   "outputs": [],
   "source": [
    "###Model Building & Testing"
   ]
  },
  {
   "cell_type": "code",
   "execution_count": null,
   "id": "89dfbbdd-f8b5-46f5-8559-fe24470535cd",
   "metadata": {},
   "outputs": [],
   "source": [
    "###Pre-trained CNN model as a Feature Extractor"
   ]
  },
  {
   "cell_type": "code",
   "execution_count": 19,
   "id": "706e3b8c-f398-42da-bbaa-55b4417ab19f",
   "metadata": {},
   "outputs": [],
   "source": [
    "IMAGE_SIZE = [180, 180]\n",
    "xcep_model = Xception(input_shape=IMAGE_SIZE+[3], weights= 'imagenet',include_top=False)\n",
    "for layer in xcep_model.layers:\n",
    "     layer.trainable=False"
   ]
  },
  {
   "cell_type": "code",
   "execution_count": null,
   "id": "e43065c3-b64c-4449-8390-d877a7ea2bfc",
   "metadata": {},
   "outputs": [],
   "source": [
    "###Create Sequential Layers"
   ]
  },
  {
   "cell_type": "code",
   "execution_count": 27,
   "id": "dd3f864b-cd99-4cab-89d7-977df7c93420",
   "metadata": {},
   "outputs": [],
   "source": [
    "from tensorflow.keras.models import Sequential\n",
    "from tensorflow.keras.layers import (\n",
    "    SeparableConv2D, BatchNormalization, GlobalAveragePooling2D, \n",
    "    Dropout, Flatten, Dense\n",
    ")\n",
    "custom_inception_model = Sequential([\n",
    "    xcep_model,\n",
    "    Dropout(0.5),\n",
    "    GlobalAveragePooling2D(),\n",
    "    Flatten(),\n",
    "    BatchNormalization(),\n",
    "    Dense(512, activation='relu'),\n",
    "    BatchNormalization(),\n",
    "    Dropout(0.5),\n",
    "    Dense(256, activation='relu'),\n",
    "    BatchNormalization(),\n",
    "    Dropout(0.5),\n",
    "    Dense(128, activation='relu'),\n",
    "    BatchNormalization(),\n",
    "    Dropout(0.5),\n",
    "    Dense(64, activation='relu'),\n",
    "    Dropout(0.5),\n",
    "    BatchNormalization(),\n",
    "    Dense(4, activation='softmax')\n",
    "], name=\"inception_cnn_model\")\n"
   ]
  },
  {
   "cell_type": "code",
   "execution_count": null,
   "id": "6e08851e-c9c8-4d20-b47f-ed52cd70869b",
   "metadata": {},
   "outputs": [],
   "source": [
    "###Configure the Learning Process"
   ]
  },
  {
   "cell_type": "code",
   "execution_count": 29,
   "id": "3a726376-abb6-4d52-8197-7693dba6fccd",
   "metadata": {},
   "outputs": [],
   "source": [
    "custom_inception_model.compile(optimizer='adam', loss='categorical_crossentropy', metrics=['accuracy'])"
   ]
  },
  {
   "cell_type": "code",
   "execution_count": null,
   "id": "577ab4db-1dae-4e89-bd6f-419224fa57f9",
   "metadata": {},
   "outputs": [],
   "source": [
    "###Train the model"
   ]
  },
  {
   "cell_type": "code",
   "execution_count": 31,
   "id": "cfc8098e-70e5-4503-abb1-e90338d320fe",
   "metadata": {},
   "outputs": [
    {
     "name": "stdout",
     "output_type": "stream",
     "text": [
      "Epoch 1/30\n",
      "\u001b[1m132/132\u001b[0m \u001b[32m━━━━━━━━━━━━━━━━━━━━\u001b[0m\u001b[37m\u001b[0m \u001b[1m201s\u001b[0m 1s/step - accuracy: 0.3037 - loss: 1.7156 - val_accuracy: 0.5682 - val_loss: 1.1073\n",
      "Epoch 2/30\n",
      "\u001b[1m132/132\u001b[0m \u001b[32m━━━━━━━━━━━━━━━━━━━━\u001b[0m\u001b[37m\u001b[0m \u001b[1m203s\u001b[0m 2s/step - accuracy: 0.4725 - loss: 1.2089 - val_accuracy: 0.6435 - val_loss: 0.8306\n",
      "Epoch 3/30\n",
      "\u001b[1m132/132\u001b[0m \u001b[32m━━━━━━━━━━━━━━━━━━━━\u001b[0m\u001b[37m\u001b[0m \u001b[1m218s\u001b[0m 2s/step - accuracy: 0.5581 - loss: 0.9786 - val_accuracy: 0.6520 - val_loss: 0.7255\n",
      "Epoch 4/30\n",
      "\u001b[1m132/132\u001b[0m \u001b[32m━━━━━━━━━━━━━━━━━━━━\u001b[0m\u001b[37m\u001b[0m \u001b[1m224s\u001b[0m 2s/step - accuracy: 0.6274 - loss: 0.8366 - val_accuracy: 0.6787 - val_loss: 0.6818\n",
      "Epoch 5/30\n",
      "\u001b[1m132/132\u001b[0m \u001b[32m━━━━━━━━━━━━━━━━━━━━\u001b[0m\u001b[37m\u001b[0m \u001b[1m195s\u001b[0m 1s/step - accuracy: 0.6401 - loss: 0.7899 - val_accuracy: 0.6835 - val_loss: 0.6505\n",
      "Epoch 6/30\n",
      "\u001b[1m132/132\u001b[0m \u001b[32m━━━━━━━━━━━━━━━━━━━━\u001b[0m\u001b[37m\u001b[0m \u001b[1m218s\u001b[0m 2s/step - accuracy: 0.6715 - loss: 0.7307 - val_accuracy: 0.6921 - val_loss: 0.6275\n",
      "Epoch 7/30\n",
      "\u001b[1m132/132\u001b[0m \u001b[32m━━━━━━━━━━━━━━━━━━━━\u001b[0m\u001b[37m\u001b[0m \u001b[1m224s\u001b[0m 2s/step - accuracy: 0.6784 - loss: 0.7119 - val_accuracy: 0.7083 - val_loss: 0.6237\n",
      "Epoch 8/30\n",
      "\u001b[1m132/132\u001b[0m \u001b[32m━━━━━━━━━━━━━━━━━━━━\u001b[0m\u001b[37m\u001b[0m \u001b[1m187s\u001b[0m 1s/step - accuracy: 0.6856 - loss: 0.6975 - val_accuracy: 0.7150 - val_loss: 0.5954\n",
      "Epoch 9/30\n",
      "\u001b[1m132/132\u001b[0m \u001b[32m━━━━━━━━━━━━━━━━━━━━\u001b[0m\u001b[37m\u001b[0m \u001b[1m220s\u001b[0m 2s/step - accuracy: 0.6981 - loss: 0.6644 - val_accuracy: 0.7245 - val_loss: 0.5875\n",
      "Epoch 10/30\n",
      "\u001b[1m132/132\u001b[0m \u001b[32m━━━━━━━━━━━━━━━━━━━━\u001b[0m\u001b[37m\u001b[0m \u001b[1m177s\u001b[0m 1s/step - accuracy: 0.7145 - loss: 0.6496 - val_accuracy: 0.7264 - val_loss: 0.5770\n",
      "Epoch 11/30\n",
      "\u001b[1m132/132\u001b[0m \u001b[32m━━━━━━━━━━━━━━━━━━━━\u001b[0m\u001b[37m\u001b[0m \u001b[1m283s\u001b[0m 2s/step - accuracy: 0.7255 - loss: 0.6235 - val_accuracy: 0.7512 - val_loss: 0.5515\n",
      "Epoch 12/30\n",
      "\u001b[1m132/132\u001b[0m \u001b[32m━━━━━━━━━━━━━━━━━━━━\u001b[0m\u001b[37m\u001b[0m \u001b[1m218s\u001b[0m 2s/step - accuracy: 0.7395 - loss: 0.6131 - val_accuracy: 0.7388 - val_loss: 0.5598\n",
      "Epoch 13/30\n",
      "\u001b[1m132/132\u001b[0m \u001b[32m━━━━━━━━━━━━━━━━━━━━\u001b[0m\u001b[37m\u001b[0m \u001b[1m242s\u001b[0m 2s/step - accuracy: 0.7480 - loss: 0.5948 - val_accuracy: 0.7579 - val_loss: 0.5637\n",
      "Epoch 14/30\n",
      "\u001b[1m132/132\u001b[0m \u001b[32m━━━━━━━━━━━━━━━━━━━━\u001b[0m\u001b[37m\u001b[0m \u001b[1m320s\u001b[0m 2s/step - accuracy: 0.7571 - loss: 0.5644 - val_accuracy: 0.7474 - val_loss: 0.5377\n",
      "Epoch 15/30\n",
      "\u001b[1m132/132\u001b[0m \u001b[32m━━━━━━━━━━━━━━━━━━━━\u001b[0m\u001b[37m\u001b[0m \u001b[1m319s\u001b[0m 2s/step - accuracy: 0.7847 - loss: 0.5487 - val_accuracy: 0.7588 - val_loss: 0.5322\n",
      "Epoch 16/30\n",
      "\u001b[1m132/132\u001b[0m \u001b[32m━━━━━━━━━━━━━━━━━━━━\u001b[0m\u001b[37m\u001b[0m \u001b[1m216s\u001b[0m 2s/step - accuracy: 0.7637 - loss: 0.5567 - val_accuracy: 0.7722 - val_loss: 0.5249\n",
      "Epoch 17/30\n",
      "\u001b[1m132/132\u001b[0m \u001b[32m━━━━━━━━━━━━━━━━━━━━\u001b[0m\u001b[37m\u001b[0m \u001b[1m205s\u001b[0m 2s/step - accuracy: 0.7970 - loss: 0.5059 - val_accuracy: 0.7760 - val_loss: 0.5181\n",
      "Epoch 18/30\n",
      "\u001b[1m132/132\u001b[0m \u001b[32m━━━━━━━━━━━━━━━━━━━━\u001b[0m\u001b[37m\u001b[0m \u001b[1m215s\u001b[0m 2s/step - accuracy: 0.8021 - loss: 0.4882 - val_accuracy: 0.7817 - val_loss: 0.5271\n",
      "Epoch 19/30\n",
      "\u001b[1m132/132\u001b[0m \u001b[32m━━━━━━━━━━━━━━━━━━━━\u001b[0m\u001b[37m\u001b[0m \u001b[1m199s\u001b[0m 2s/step - accuracy: 0.8069 - loss: 0.4862 - val_accuracy: 0.7874 - val_loss: 0.5103\n",
      "Epoch 20/30\n",
      "\u001b[1m132/132\u001b[0m \u001b[32m━━━━━━━━━━━━━━━━━━━━\u001b[0m\u001b[37m\u001b[0m \u001b[1m196s\u001b[0m 1s/step - accuracy: 0.8205 - loss: 0.4619 - val_accuracy: 0.7941 - val_loss: 0.5028\n",
      "Epoch 21/30\n",
      "\u001b[1m132/132\u001b[0m \u001b[32m━━━━━━━━━━━━━━━━━━━━\u001b[0m\u001b[37m\u001b[0m \u001b[1m210s\u001b[0m 2s/step - accuracy: 0.8034 - loss: 0.4848 - val_accuracy: 0.7960 - val_loss: 0.5196\n",
      "Epoch 22/30\n",
      "\u001b[1m132/132\u001b[0m \u001b[32m━━━━━━━━━━━━━━━━━━━━\u001b[0m\u001b[37m\u001b[0m \u001b[1m211s\u001b[0m 2s/step - accuracy: 0.8226 - loss: 0.4550 - val_accuracy: 0.7969 - val_loss: 0.4727\n",
      "Epoch 23/30\n",
      "\u001b[1m132/132\u001b[0m \u001b[32m━━━━━━━━━━━━━━━━━━━━\u001b[0m\u001b[37m\u001b[0m \u001b[1m276s\u001b[0m 2s/step - accuracy: 0.8372 - loss: 0.4069 - val_accuracy: 0.8084 - val_loss: 0.4595\n",
      "Epoch 24/30\n",
      "\u001b[1m132/132\u001b[0m \u001b[32m━━━━━━━━━━━━━━━━━━━━\u001b[0m\u001b[37m\u001b[0m \u001b[1m302s\u001b[0m 2s/step - accuracy: 0.8449 - loss: 0.3985 - val_accuracy: 0.8093 - val_loss: 0.4812\n",
      "Epoch 25/30\n",
      "\u001b[1m132/132\u001b[0m \u001b[32m━━━━━━━━━━━━━━━━━━━━\u001b[0m\u001b[37m\u001b[0m \u001b[1m226s\u001b[0m 2s/step - accuracy: 0.8501 - loss: 0.4005 - val_accuracy: 0.7941 - val_loss: 0.4838\n",
      "Epoch 26/30\n",
      "\u001b[1m132/132\u001b[0m \u001b[32m━━━━━━━━━━━━━━━━━━━━\u001b[0m\u001b[37m\u001b[0m \u001b[1m253s\u001b[0m 2s/step - accuracy: 0.8621 - loss: 0.3795 - val_accuracy: 0.8112 - val_loss: 0.4992\n",
      "Epoch 27/30\n",
      "\u001b[1m132/132\u001b[0m \u001b[32m━━━━━━━━━━━━━━━━━━━━\u001b[0m\u001b[37m\u001b[0m \u001b[1m231s\u001b[0m 2s/step - accuracy: 0.8557 - loss: 0.3902 - val_accuracy: 0.8074 - val_loss: 0.4792\n",
      "Epoch 28/30\n",
      "\u001b[1m132/132\u001b[0m \u001b[32m━━━━━━━━━━━━━━━━━━━━\u001b[0m\u001b[37m\u001b[0m \u001b[1m224s\u001b[0m 2s/step - accuracy: 0.8739 - loss: 0.3416 - val_accuracy: 0.8141 - val_loss: 0.4822\n",
      "Epoch 29/30\n",
      "\u001b[1m132/132\u001b[0m \u001b[32m━━━━━━━━━━━━━━━━━━━━\u001b[0m\u001b[37m\u001b[0m \u001b[1m238s\u001b[0m 2s/step - accuracy: 0.8709 - loss: 0.3506 - val_accuracy: 0.8132 - val_loss: 0.4807\n",
      "Epoch 30/30\n",
      "\u001b[1m132/132\u001b[0m \u001b[32m━━━━━━━━━━━━━━━━━━━━\u001b[0m\u001b[37m\u001b[0m \u001b[1m227s\u001b[0m 2s/step - accuracy: 0.8684 - loss: 0.3752 - val_accuracy: 0.8208 - val_loss: 0.4703\n"
     ]
    }
   ],
   "source": [
    "history = custom_inception_model.fit(train_data, train_labels, validation_data=(val_data, val_labels), epochs=30)"
   ]
  },
  {
   "cell_type": "code",
   "execution_count": null,
   "id": "9250418e-765a-4ede-a612-9dd2f7bd9162",
   "metadata": {},
   "outputs": [],
   "source": [
    "###Save The Model"
   ]
  },
  {
   "cell_type": "code",
   "execution_count": 33,
   "id": "f9c2fbfc-d746-4782-8f49-5192a0574ffb",
   "metadata": {},
   "outputs": [
    {
     "name": "stderr",
     "output_type": "stream",
     "text": [
      "WARNING:absl:You are saving your model as an HDF5 file via `model.save()` or `keras.saving.save_model(model)`. This file format is considered legacy. We recommend using instead the native Keras format, e.g. `model.save('my_model.keras')` or `keras.saving.save_model(model, 'my_model.keras')`. \n"
     ]
    }
   ],
   "source": [
    "custom_inception_model.save('adp.h5')"
   ]
  },
  {
   "cell_type": "code",
   "execution_count": null,
   "id": "3f65c623-1c0f-40cc-a9cd-9b1435db5e05",
   "metadata": {},
   "outputs": [],
   "source": [
    "###Test The Model"
   ]
  },
  {
   "cell_type": "code",
   "execution_count": 57,
   "id": "4df674c5-2de2-452e-87ee-d7270b3419ae",
   "metadata": {},
   "outputs": [
    {
     "name": "stderr",
     "output_type": "stream",
     "text": [
      "WARNING:absl:Compiled the loaded model, but the compiled metrics have yet to be built. `model.compile_metrics` will be empty until you train or evaluate the model.\n"
     ]
    },
    {
     "name": "stdout",
     "output_type": "stream",
     "text": [
      "\u001b[1m1/1\u001b[0m \u001b[32m━━━━━━━━━━━━━━━━━━━━\u001b[0m\u001b[37m\u001b[0m \u001b[1m1s\u001b[0m 1s/step\n",
      "ModerateDemented\n"
     ]
    }
   ],
   "source": [
    "from tensorflow.keras.models import load_model\n",
    "from tensorflow.keras.preprocessing import image\n",
    "import numpy as np\n",
    "model = load_model('adp.h5')\n",
    "img = image.load_img(r\"extract_files/Alzheimer_s Dataset/test/ModerateDemented/32.jpg\", target_size=(180, 180))\n",
    "x = image.img_to_array(img)\n",
    "x = x / 255.0 \n",
    "x = np.expand_dims(x, axis=0)\n",
    "preds = model.predict(x)\n",
    "pred = np.argmax(preds, axis=1)\n",
    "index = ['MildDemented', 'ModerateDemented', 'NonDemented', 'VeryMildDemented']\n",
    "result = str(index[pred[0]])\n",
    "print(result)\n"
   ]
  }
 ],
 "metadata": {
  "kernelspec": {
   "display_name": "Python 3 (ipykernel)",
   "language": "python",
   "name": "python3"
  },
  "language_info": {
   "codemirror_mode": {
    "name": "ipython",
    "version": 3
   },
   "file_extension": ".py",
   "mimetype": "text/x-python",
   "name": "python",
   "nbconvert_exporter": "python",
   "pygments_lexer": "ipython3",
   "version": "3.12.4"
  }
 },
 "nbformat": 4,
 "nbformat_minor": 5
}
